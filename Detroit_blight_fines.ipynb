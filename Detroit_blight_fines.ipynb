{
 "cells": [
  {
   "cell_type": "code",
   "execution_count": 3,
   "metadata": {},
   "outputs": [
    {
     "data": {
      "text/plain": [
       "(250306, 34)"
      ]
     },
     "execution_count": 3,
     "metadata": {},
     "output_type": "execute_result"
    }
   ],
   "source": [
    "import pandas as pd\n",
    "import numpy as np\n",
    "from datetime import datetime\n",
    "from math import radians, cos, sin, asin, sqrt\n",
    "\n",
    "# import de data set\n",
    "df_01 = pd.read_csv('data/train.csv', delimiter = ',', encoding = 'latin-1', low_memory = False)\n",
    "df_01.shape"
   ]
  },
  {
   "cell_type": "code",
   "execution_count": 4,
   "metadata": {},
   "outputs": [
    {
     "data": {
      "text/plain": [
       "((250306, 35), (250306, 37), (159880, 37))"
      ]
     },
     "execution_count": 4,
     "metadata": {},
     "output_type": "execute_result"
    }
   ],
   "source": [
    "# import de external data files and merge them to the data set\n",
    "addresses = pd.read_csv('data/addresses.csv', delimiter = ',', encoding = 'latin-1') # 311.307 records\n",
    "latlons = pd.read_csv('data/latlons.csv', delimiter = ',', encoding = 'latin-1') # 121.769 records\n",
    "\n",
    "# merge addresses to training dataset, 250.306 records -> every record has a known address\n",
    "df_02 = pd.merge(df_01, addresses, left_on = ['ticket_id'], right_on = ['ticket_id'], how = 'inner')\n",
    "\n",
    "# merge latitudes and longitudes to training dataset, 250.306 records -> every record has a latitude and\n",
    "# longitude but possibly the wrong ones due to a misspelled address\n",
    "df_03 = pd.merge(df_02, latlons, left_on = ['address'], right_on = ['address'], how = 'inner')\n",
    "\n",
    "# remove records where compliance equals 'Null', 159.880 records\n",
    "df_04 = df_03.dropna(subset = ['compliance'])\n",
    "\n",
    "df_02.shape, df_03.shape, df_04.shape"
   ]
  },
  {
   "cell_type": "code",
   "execution_count": 5,
   "metadata": {},
   "outputs": [
    {
     "name": "stderr",
     "output_type": "stream",
     "text": [
      "C:\\Users\\Paul\\Anaconda3\\lib\\site-packages\\pandas\\core\\indexing.py:517: SettingWithCopyWarning: \n",
      "A value is trying to be set on a copy of a slice from a DataFrame.\n",
      "Try using .loc[row_indexer,col_indexer] = value instead\n",
      "\n",
      "See the caveats in the documentation: http://pandas.pydata.org/pandas-docs/stable/indexing.html#indexing-view-versus-copy\n",
      "  self.obj[item] = s\n"
     ]
    },
    {
     "name": "stdout",
     "output_type": "stream",
     "text": [
      "The number of categories of violation_description is reduced from 207 to 98\n",
      "The number of categories of agency_name is reduced from 5 to 5\n",
      "The number of categories of disposition is reduced from 4 to 4\n",
      "The number of categories of state is reduced from 60 to 50\n"
     ]
    }
   ],
   "source": [
    "# make all codes with less than 10 occurrences null in order not to end up with to many dummies later\n",
    "\n",
    "features_to_reduce = ['violation_description', 'agency_name', 'disposition', 'state']\n",
    "    \n",
    "for feature in features_to_reduce:\n",
    "    number_categories_before = df_04[feature].value_counts(dropna = False).to_frame().shape[0]\n",
    "    counts = df_04[feature].value_counts()\n",
    "    df_04.loc[df_04[feature].isin(counts[counts < 10].to_frame().reset_index()['index']), feature] = np.nan\n",
    "    number_categories_after = df_04[feature].value_counts(dropna = False).to_frame().shape[0]\n",
    "    \n",
    "    print('The number of categories of', feature, 'is reduced from', number_categories_before, 'to', number_categories_after)"
   ]
  },
  {
   "cell_type": "code",
   "execution_count": 6,
   "metadata": {},
   "outputs": [
    {
     "name": "stderr",
     "output_type": "stream",
     "text": [
      "C:\\Users\\Paul\\Anaconda3\\lib\\site-packages\\ipykernel_launcher.py:9: SettingWithCopyWarning: \n",
      "A value is trying to be set on a copy of a slice from a DataFrame.\n",
      "Try using .loc[row_indexer,col_indexer] = value instead\n",
      "\n",
      "See the caveats in the documentation: http://pandas.pydata.org/pandas-docs/stable/indexing.html#indexing-view-versus-copy\n",
      "  if __name__ == '__main__':\n"
     ]
    }
   ],
   "source": [
    "# create a new feature: the gap in days between the date the ticket has been issued and the hearing date\n",
    "def time_gap(input1, input2):\n",
    "    if not input1 or type(input1) != str: return np.nan\n",
    "    date1 = datetime.strptime(input1, \"%Y-%m-%d %H:%M:%S\")\n",
    "    date2 = datetime.strptime(input2, \"%Y-%m-%d %H:%M:%S\")\n",
    "    difference = date1 - date2\n",
    "    return difference.days\n",
    "    \n",
    "df_04['time_gap'] = df_04.apply(lambda row: time_gap(row['hearing_date'], row['ticket_issued_date']), axis = 1).astype(np.float64)"
   ]
  },
  {
   "cell_type": "code",
   "execution_count": 7,
   "metadata": {},
   "outputs": [
    {
     "data": {
      "text/plain": [
       "453"
      ]
     },
     "execution_count": 7,
     "metadata": {},
     "output_type": "execute_result"
    }
   ],
   "source": [
    "# a gap up to 100 days seems realistic, however negative gaps (the ticket has been issued after the hearing data) and\n",
    "# very large gaps of over 365 (one year) seem incorrect. These 'outliers' or errors in the data will be replace by the average\n",
    "\n",
    "# first we will check how many records contain such gaps\n",
    "df_04[(df_04['time_gap'] < 0) | (df_04['time_gap'] > 365)]['time_gap'].count()"
   ]
  },
  {
   "cell_type": "code",
   "execution_count": 8,
   "metadata": {
    "scrolled": true
   },
   "outputs": [
    {
     "name": "stderr",
     "output_type": "stream",
     "text": [
      "C:\\Users\\Paul\\Anaconda3\\lib\\site-packages\\pandas\\core\\indexing.py:517: SettingWithCopyWarning: \n",
      "A value is trying to be set on a copy of a slice from a DataFrame.\n",
      "Try using .loc[row_indexer,col_indexer] = value instead\n",
      "\n",
      "See the caveats in the documentation: http://pandas.pydata.org/pandas-docs/stable/indexing.html#indexing-view-versus-copy\n",
      "  self.obj[item] = s\n",
      "C:\\Users\\Paul\\Anaconda3\\lib\\site-packages\\pandas\\core\\generic.py:3549: SettingWithCopyWarning: \n",
      "A value is trying to be set on a copy of a slice from a DataFrame\n",
      "\n",
      "See the caveats in the documentation: http://pandas.pydata.org/pandas-docs/stable/indexing.html#indexing-view-versus-copy\n",
      "  self._update_inplace(new_data)\n"
     ]
    }
   ],
   "source": [
    "# let's replace these values and the missings already in the dataframe by the average timegap of the non-missings\n",
    "df_04.loc[(df_04['time_gap'] < 0) | (df_04['time_gap'] > 365), 'time_gap'] = np.nan\n",
    "\n",
    "mean_time_gap = df_04['time_gap'].mean()\n",
    "df_04['time_gap'].fillna(mean_time_gap, inplace = True)"
   ]
  },
  {
   "cell_type": "code",
   "execution_count": 9,
   "metadata": {},
   "outputs": [
    {
     "data": {
      "image/png": "[encoded data removed]",
      "text/plain": [
       "<matplotlib.figure.Figure at 0x1d418bd3b38>"
      ]
     },
     "metadata": {},
     "output_type": "display_data"
    }
   ],
   "source": [
    "import matplotlib.pyplot as plt\n",
    "import seaborn as sns\n",
    "\n",
    "sns.set_style('darkgrid')\n",
    "\n",
    "plt.figure(figsize = (20, 10))\n",
    "\n",
    "p = sns.violinplot(data = df_04, x = 'compliance', y = 'time_gap')\n",
    "p.set_title('time gap distribution by compliance', fontsize = 20)\n",
    "p.set_xlabel('compliance', fontsize = 15)\n",
    "p.set_ylabel('time gap distribution', fontsize = 15) \n",
    "p.set_xticklabels(['not paid', 'paid'], fontsize = 12)\n",
    "\n",
    "plt.show()"
   ]
  },
  {
   "cell_type": "code",
   "execution_count": 10,
   "metadata": {},
   "outputs": [
    {
     "name": "stderr",
     "output_type": "stream",
     "text": [
      "C:\\Users\\Paul\\Anaconda3\\lib\\site-packages\\pandas\\core\\generic.py:3549: SettingWithCopyWarning: \n",
      "A value is trying to be set on a copy of a slice from a DataFrame\n",
      "\n",
      "See the caveats in the documentation: http://pandas.pydata.org/pandas-docs/stable/indexing.html#indexing-view-versus-copy\n",
      "  self._update_inplace(new_data)\n"
     ]
    }
   ],
   "source": [
    "# impute missing values in lat with the average, lon with the average and state with a 'new state' (as in 'other')\n",
    "mean_lat = df_04['lat'].mean()\n",
    "mean_lon = df_04['lon'].mean()\n",
    "\n",
    "df_04['lat'].fillna(mean_lat, inplace = True)\n",
    "df_04['lon'].fillna(mean_lon, inplace = True)\n",
    "df_04['state'].fillna('ZZ', inplace = True)"
   ]
  },
  {
   "cell_type": "code",
   "execution_count": 11,
   "metadata": {},
   "outputs": [
    {
     "name": "stderr",
     "output_type": "stream",
     "text": [
      "C:\\Users\\Paul\\Anaconda3\\lib\\site-packages\\ipykernel_launcher.py:19: SettingWithCopyWarning: \n",
      "A value is trying to be set on a copy of a slice from a DataFrame.\n",
      "Try using .loc[row_indexer,col_indexer] = value instead\n",
      "\n",
      "See the caveats in the documentation: http://pandas.pydata.org/pandas-docs/stable/indexing.html#indexing-view-versus-copy\n"
     ]
    }
   ],
   "source": [
    "# create the distance of every address to the city of Detroit    \n",
    "def haversine(lon1, lat1, lon2, lat2):\n",
    "\n",
    "    # convert decimal degrees to radians\n",
    "    lon1, lat1, lon2, lat2 = map(radians, [lon1, lat1, lon2, lat2])\n",
    "    \n",
    "    # haversine formula\n",
    "    dlon = lon2 - lon1\n",
    "    dlat = lat2 - lat1\n",
    "    a = sin(dlat/2)**2 + cos(lat1) * cos(lat2) * sin(dlon/2) ** 2\n",
    "    c = 2 * asin(sqrt(a))\n",
    "    r = 6371 # radius of earth in kilometers (use 3956 for miles)\n",
    "    return c * r\n",
    "\n",
    "# longitude and latitude of Detroit are -83.045753 and 42.331429\n",
    "df_04['distance'] = df_04.apply(lambda row: haversine(lon1 = -83.045753,\n",
    "                                                      lat1 = 42.331429,\n",
    "                                                      lon2 = row['lon'],\n",
    "                                                      lat2 = row['lat']), axis = 1)"
   ]
  },
  {
   "cell_type": "code",
   "execution_count": 12,
   "metadata": {},
   "outputs": [
    {
     "data": {
      "text/html": [
       "<div>\n",
       "<style>\n",
       "    .dataframe thead tr:only-child th {\n",
       "        text-align: right;\n",
       "    }\n",
       "\n",
       "    .dataframe thead th {\n",
       "        text-align: left;\n",
       "    }\n",
       "\n",
       "    .dataframe tbody tr th {\n",
       "        vertical-align: top;\n",
       "    }\n",
       "</style>\n",
       "<table border=\"1\" class=\"dataframe\">\n",
       "  <thead>\n",
       "    <tr style=\"text-align: right;\">\n",
       "      <th></th>\n",
       "      <th>count</th>\n",
       "      <th>mean</th>\n",
       "      <th>std</th>\n",
       "      <th>min</th>\n",
       "      <th>25%</th>\n",
       "      <th>50%</th>\n",
       "      <th>75%</th>\n",
       "      <th>max</th>\n",
       "    </tr>\n",
       "    <tr>\n",
       "      <th>compliance</th>\n",
       "      <th></th>\n",
       "      <th></th>\n",
       "      <th></th>\n",
       "      <th></th>\n",
       "      <th></th>\n",
       "      <th></th>\n",
       "      <th></th>\n",
       "      <th></th>\n",
       "    </tr>\n",
       "  </thead>\n",
       "  <tbody>\n",
       "    <tr>\n",
       "      <th>0.0</th>\n",
       "      <td>148283.0</td>\n",
       "      <td>11.364780</td>\n",
       "      <td>4.296246</td>\n",
       "      <td>0.036816</td>\n",
       "      <td>8.432334</td>\n",
       "      <td>11.47135</td>\n",
       "      <td>13.964312</td>\n",
       "      <td>275.624714</td>\n",
       "    </tr>\n",
       "    <tr>\n",
       "      <th>1.0</th>\n",
       "      <td>11597.0</td>\n",
       "      <td>11.095243</td>\n",
       "      <td>4.536442</td>\n",
       "      <td>0.084815</td>\n",
       "      <td>7.711914</td>\n",
       "      <td>11.42643</td>\n",
       "      <td>13.943130</td>\n",
       "      <td>38.978889</td>\n",
       "    </tr>\n",
       "  </tbody>\n",
       "</table>\n",
       "</div>"
      ],
      "text/plain": [
       "               count       mean       std       min       25%       50%  \\\n",
       "compliance                                                                \n",
       "0.0         148283.0  11.364780  4.296246  0.036816  8.432334  11.47135   \n",
       "1.0          11597.0  11.095243  4.536442  0.084815  7.711914  11.42643   \n",
       "\n",
       "                  75%         max  \n",
       "compliance                         \n",
       "0.0         13.964312  275.624714  \n",
       "1.0         13.943130   38.978889  "
      ]
     },
     "execution_count": 12,
     "metadata": {},
     "output_type": "execute_result"
    }
   ],
   "source": [
    "df_04['distance'].groupby(df_04['compliance']).describe()"
   ]
  },
  {
   "cell_type": "code",
   "execution_count": 13,
   "metadata": {},
   "outputs": [
    {
     "data": {
      "image/png": "[encoded data removed]",
      "text/plain": [
       "<matplotlib.figure.Figure at 0x1d4248f2a58>"
      ]
     },
     "metadata": {},
     "output_type": "display_data"
    }
   ],
   "source": [
    "plt.figure(figsize = (20, 10))\n",
    "\n",
    "bp = sns.boxplot(x = 'compliance', y = 'distance', data=df_04)\n",
    "bp.set(ylim = (0, 50))\n",
    "bp.set_title('boxplot of distance by compliance', fontsize = 20)\n",
    "bp.set_xlabel('compliance', fontsize = 15)\n",
    "bp.set_ylabel('distance', fontsize = 15) \n",
    "bp.set_xticklabels(['not paid', 'paid'], fontsize = 12)\n",
    "\n",
    "plt.show()"
   ]
  },
  {
   "cell_type": "code",
   "execution_count": 14,
   "metadata": {},
   "outputs": [
    {
     "name": "stderr",
     "output_type": "stream",
     "text": [
      "C:\\Users\\Paul\\Anaconda3\\lib\\site-packages\\pandas\\core\\indexing.py:337: SettingWithCopyWarning: \n",
      "A value is trying to be set on a copy of a slice from a DataFrame.\n",
      "Try using .loc[row_indexer,col_indexer] = value instead\n",
      "\n",
      "See the caveats in the documentation: http://pandas.pydata.org/pandas-docs/stable/indexing.html#indexing-view-versus-copy\n",
      "  self.obj[key] = _infer_fill_value(value)\n",
      "C:\\Users\\Paul\\Anaconda3\\lib\\site-packages\\pandas\\core\\indexing.py:517: SettingWithCopyWarning: \n",
      "A value is trying to be set on a copy of a slice from a DataFrame.\n",
      "Try using .loc[row_indexer,col_indexer] = value instead\n",
      "\n",
      "See the caveats in the documentation: http://pandas.pydata.org/pandas-docs/stable/indexing.html#indexing-view-versus-copy\n",
      "  self.obj[item] = s\n"
     ]
    }
   ],
   "source": [
    "# create some additional features\n",
    "df_04.loc[:, 'distance2']          = df_04.loc[:, 'distance'] * df_04.loc[:, 'distance']\n",
    "df_04.loc[:, 'distance_admin_fee'] = df_04.loc[:, 'distance'] * df_04.loc[:, 'admin_fee']\n",
    "df_04.loc[:, 'distance_state_fee'] = df_04.loc[:, 'distance'] * df_04.loc[:, 'state_fee']\n",
    "df_04.loc[:, 'distance_late_fee']  = df_04.loc[:, 'distance'] * df_04.loc[:, 'late_fee']\n",
    "df_04.loc[:, 'distance_discount']  = df_04.loc[:, 'distance'] * df_04.loc[:, 'discount_amount']\n",
    "df_04.loc[:, 'distance_judgment']  = df_04.loc[:, 'distance'] * df_04.loc[:, 'judgment_amount']\n",
    "df_04.loc[:, 'distance_time_gap']  = df_04.loc[:, 'distance'] * df_04.loc[:, 'time_gap']"
   ]
  },
  {
   "cell_type": "code",
   "execution_count": 15,
   "metadata": {
    "scrolled": true
   },
   "outputs": [
    {
     "data": {
      "text/html": [
       "<div>\n",
       "<style>\n",
       "    .dataframe thead tr:only-child th {\n",
       "        text-align: right;\n",
       "    }\n",
       "\n",
       "    .dataframe thead th {\n",
       "        text-align: left;\n",
       "    }\n",
       "\n",
       "    .dataframe tbody tr th {\n",
       "        vertical-align: top;\n",
       "    }\n",
       "</style>\n",
       "<table border=\"1\" class=\"dataframe\">\n",
       "  <thead>\n",
       "    <tr style=\"text-align: right;\">\n",
       "      <th></th>\n",
       "      <th>ticket_id</th>\n",
       "      <th>agency_name</th>\n",
       "      <th>inspector_name</th>\n",
       "      <th>violator_name</th>\n",
       "      <th>violation_street_number</th>\n",
       "      <th>violation_street_name</th>\n",
       "      <th>violation_zip_code</th>\n",
       "      <th>mailing_address_str_number</th>\n",
       "      <th>mailing_address_str_name</th>\n",
       "      <th>city</th>\n",
       "      <th>...</th>\n",
       "      <th>lon</th>\n",
       "      <th>time_gap</th>\n",
       "      <th>distance</th>\n",
       "      <th>distance2</th>\n",
       "      <th>distance_admin_fee</th>\n",
       "      <th>distance_state_fee</th>\n",
       "      <th>distance_late_fee</th>\n",
       "      <th>distance_discount</th>\n",
       "      <th>distance_judgment</th>\n",
       "      <th>distance_time_gap</th>\n",
       "    </tr>\n",
       "  </thead>\n",
       "  <tbody>\n",
       "    <tr>\n",
       "      <th>0</th>\n",
       "      <td>22056</td>\n",
       "      <td>Buildings, Safety Engineering &amp; Env Department</td>\n",
       "      <td>Sims, Martinzie</td>\n",
       "      <td>INVESTMENT INC., MIDWEST MORTGAGE</td>\n",
       "      <td>2900.0</td>\n",
       "      <td>TYLER</td>\n",
       "      <td>NaN</td>\n",
       "      <td>3.0</td>\n",
       "      <td>S. WICKER</td>\n",
       "      <td>CHICAGO</td>\n",
       "      <td>...</td>\n",
       "      <td>-83.124268</td>\n",
       "      <td>71.66581</td>\n",
       "      <td>9.224702</td>\n",
       "      <td>85.095131</td>\n",
       "      <td>184.494044</td>\n",
       "      <td>92.247022</td>\n",
       "      <td>230.617555</td>\n",
       "      <td>0.0</td>\n",
       "      <td>2813.534177</td>\n",
       "      <td>661.095759</td>\n",
       "    </tr>\n",
       "    <tr>\n",
       "      <th>1</th>\n",
       "      <td>77242</td>\n",
       "      <td>Buildings, Safety Engineering &amp; Env Department</td>\n",
       "      <td>Sims, Martinzie</td>\n",
       "      <td>INV. INC., MIDWEST MORTGAGE</td>\n",
       "      <td>2900.0</td>\n",
       "      <td>TYLER</td>\n",
       "      <td>NaN</td>\n",
       "      <td>3.0</td>\n",
       "      <td>S. WACKER</td>\n",
       "      <td>CHICAGO</td>\n",
       "      <td>...</td>\n",
       "      <td>-83.124268</td>\n",
       "      <td>34.00000</td>\n",
       "      <td>9.224702</td>\n",
       "      <td>85.095131</td>\n",
       "      <td>184.494044</td>\n",
       "      <td>92.247022</td>\n",
       "      <td>461.235111</td>\n",
       "      <td>0.0</td>\n",
       "      <td>5350.327287</td>\n",
       "      <td>313.639875</td>\n",
       "    </tr>\n",
       "    <tr>\n",
       "      <th>2</th>\n",
       "      <td>77243</td>\n",
       "      <td>Buildings, Safety Engineering &amp; Env Department</td>\n",
       "      <td>Sims, Martinzie</td>\n",
       "      <td>MORTGAGE CO., MIDWEST</td>\n",
       "      <td>2900.0</td>\n",
       "      <td>TYLER</td>\n",
       "      <td>NaN</td>\n",
       "      <td>3.0</td>\n",
       "      <td>S. WACKER</td>\n",
       "      <td>CHICAGO</td>\n",
       "      <td>...</td>\n",
       "      <td>-83.124268</td>\n",
       "      <td>34.00000</td>\n",
       "      <td>9.224702</td>\n",
       "      <td>85.095131</td>\n",
       "      <td>184.494044</td>\n",
       "      <td>92.247022</td>\n",
       "      <td>230.617555</td>\n",
       "      <td>0.0</td>\n",
       "      <td>2813.534177</td>\n",
       "      <td>313.639875</td>\n",
       "    </tr>\n",
       "    <tr>\n",
       "      <th>4</th>\n",
       "      <td>138219</td>\n",
       "      <td>Department of Public Works</td>\n",
       "      <td>Talbert, Reginald</td>\n",
       "      <td>INVESTMENT INC, MIDWEST MORTGAGE</td>\n",
       "      <td>2900.0</td>\n",
       "      <td>TYLER</td>\n",
       "      <td>NaN</td>\n",
       "      <td>3.0</td>\n",
       "      <td>S WACKER #1418</td>\n",
       "      <td>CHICAGO</td>\n",
       "      <td>...</td>\n",
       "      <td>-83.124268</td>\n",
       "      <td>136.00000</td>\n",
       "      <td>9.224702</td>\n",
       "      <td>85.095131</td>\n",
       "      <td>184.494044</td>\n",
       "      <td>92.247022</td>\n",
       "      <td>92.247022</td>\n",
       "      <td>0.0</td>\n",
       "      <td>1291.458311</td>\n",
       "      <td>1254.559502</td>\n",
       "    </tr>\n",
       "    <tr>\n",
       "      <th>5</th>\n",
       "      <td>177558</td>\n",
       "      <td>Buildings, Safety Engineering &amp; Env Department</td>\n",
       "      <td>Morris, John</td>\n",
       "      <td>INVESTMENT, MIDWEST MORTGAGE</td>\n",
       "      <td>2900.0</td>\n",
       "      <td>TYLER</td>\n",
       "      <td>NaN</td>\n",
       "      <td>3.0</td>\n",
       "      <td>S. WACKER</td>\n",
       "      <td>CHICAGO</td>\n",
       "      <td>...</td>\n",
       "      <td>-83.124268</td>\n",
       "      <td>81.00000</td>\n",
       "      <td>9.224702</td>\n",
       "      <td>85.095131</td>\n",
       "      <td>184.494044</td>\n",
       "      <td>92.247022</td>\n",
       "      <td>276.741067</td>\n",
       "      <td>0.0</td>\n",
       "      <td>3320.892799</td>\n",
       "      <td>747.200880</td>\n",
       "    </tr>\n",
       "  </tbody>\n",
       "</table>\n",
       "<p>5 rows × 46 columns</p>\n",
       "</div>"
      ],
      "text/plain": [
       "   ticket_id                                     agency_name  \\\n",
       "0      22056  Buildings, Safety Engineering & Env Department   \n",
       "1      77242  Buildings, Safety Engineering & Env Department   \n",
       "2      77243  Buildings, Safety Engineering & Env Department   \n",
       "4     138219                      Department of Public Works   \n",
       "5     177558  Buildings, Safety Engineering & Env Department   \n",
       "\n",
       "      inspector_name                      violator_name  \\\n",
       "0    Sims, Martinzie  INVESTMENT INC., MIDWEST MORTGAGE   \n",
       "1    Sims, Martinzie        INV. INC., MIDWEST MORTGAGE   \n",
       "2    Sims, Martinzie              MORTGAGE CO., MIDWEST   \n",
       "4  Talbert, Reginald   INVESTMENT INC, MIDWEST MORTGAGE   \n",
       "5       Morris, John       INVESTMENT, MIDWEST MORTGAGE   \n",
       "\n",
       "   violation_street_number violation_street_name  violation_zip_code  \\\n",
       "0                   2900.0                 TYLER                 NaN   \n",
       "1                   2900.0                 TYLER                 NaN   \n",
       "2                   2900.0                 TYLER                 NaN   \n",
       "4                   2900.0                 TYLER                 NaN   \n",
       "5                   2900.0                 TYLER                 NaN   \n",
       "\n",
       "   mailing_address_str_number mailing_address_str_name     city  \\\n",
       "0                         3.0                S. WICKER  CHICAGO   \n",
       "1                         3.0                S. WACKER  CHICAGO   \n",
       "2                         3.0                S. WACKER  CHICAGO   \n",
       "4                         3.0           S WACKER #1418  CHICAGO   \n",
       "5                         3.0                S. WACKER  CHICAGO   \n",
       "\n",
       "         ...                lon   time_gap  distance  distance2  \\\n",
       "0        ...         -83.124268   71.66581  9.224702  85.095131   \n",
       "1        ...         -83.124268   34.00000  9.224702  85.095131   \n",
       "2        ...         -83.124268   34.00000  9.224702  85.095131   \n",
       "4        ...         -83.124268  136.00000  9.224702  85.095131   \n",
       "5        ...         -83.124268   81.00000  9.224702  85.095131   \n",
       "\n",
       "  distance_admin_fee distance_state_fee distance_late_fee distance_discount  \\\n",
       "0         184.494044          92.247022        230.617555               0.0   \n",
       "1         184.494044          92.247022        461.235111               0.0   \n",
       "2         184.494044          92.247022        230.617555               0.0   \n",
       "4         184.494044          92.247022         92.247022               0.0   \n",
       "5         184.494044          92.247022        276.741067               0.0   \n",
       "\n",
       "  distance_judgment  distance_time_gap  \n",
       "0       2813.534177         661.095759  \n",
       "1       5350.327287         313.639875  \n",
       "2       2813.534177         313.639875  \n",
       "4       1291.458311        1254.559502  \n",
       "5       3320.892799         747.200880  \n",
       "\n",
       "[5 rows x 46 columns]"
      ]
     },
     "execution_count": 15,
     "metadata": {},
     "output_type": "execute_result"
    }
   ],
   "source": [
    "df_04.head()"
   ]
  },
  {
   "cell_type": "code",
   "execution_count": 16,
   "metadata": {
    "collapsed": true
   },
   "outputs": [],
   "source": [
    "# selecting the features\n",
    "feature_names = ['ticket_id', 'violation_description', 'agency_name', 'disposition', 'discount_amount',\n",
    "                 'admin_fee', 'state_fee', 'late_fee', 'judgment_amount', 'state', 'lat', 'lon', 'distance', 'time_gap',\n",
    "                 'distance2', 'distance_admin_fee', 'distance_state_fee', 'distance_late_fee', 'distance_discount',\n",
    "                 'distance_judgment', 'distance_time_gap']\n",
    "\n",
    "x = df_04[feature_names]\n",
    "x = x.set_index('ticket_id')\n",
    "\n",
    "y = df_04['compliance']\n",
    "\n",
    "# recoding the categorical features to numerical ones\n",
    "x['violation_description'] = x['violation_description'].astype('category')\n",
    "violation_description_dict = dict(enumerate(x.violation_description.cat.categories))\n",
    "violation_description_dict2 = {y:x for x,y in violation_description_dict.items()}\n",
    "x['violation_description'] = x['violation_description'].cat.codes\n",
    "mode_violation_description = x['violation_description'].mode()[0]\n",
    "\n",
    "x['agency_name'] = x['agency_name'].astype('category')\n",
    "agency_name_dict = dict(enumerate(x.agency_name.cat.categories))\n",
    "agency_name_dict2 = {y:x for x,y in agency_name_dict.items()}\n",
    "x['agency_name'] = x['agency_name'].cat.codes\n",
    "mode_agency_name = x['agency_name'].mode()[0]\n",
    "\n",
    "x['disposition'] = x['disposition'].astype('category')\n",
    "disposition_dict = dict(enumerate(x.disposition.cat.categories))\n",
    "disposition_dict2 = {y:x for x,y in disposition_dict.items()}\n",
    "x['disposition'] = x['disposition'].cat.codes\n",
    "mode_disposition = x['disposition'].mode()[0]\n",
    "\n",
    "x['state'] = x['state'].astype('category')\n",
    "state_dict = dict(enumerate(x.state.cat.categories))\n",
    "state_dict2 = {y:x for x,y in state_dict.items()}\n",
    "x['state'] = x['state'].cat.codes"
   ]
  },
  {
   "cell_type": "code",
   "execution_count": 17,
   "metadata": {},
   "outputs": [
    {
     "data": {
      "text/html": [
       "<div>\n",
       "<style>\n",
       "    .dataframe thead tr:only-child th {\n",
       "        text-align: right;\n",
       "    }\n",
       "\n",
       "    .dataframe thead th {\n",
       "        text-align: left;\n",
       "    }\n",
       "\n",
       "    .dataframe tbody tr th {\n",
       "        vertical-align: top;\n",
       "    }\n",
       "</style>\n",
       "<table border=\"1\" class=\"dataframe\">\n",
       "  <thead>\n",
       "    <tr style=\"text-align: right;\">\n",
       "      <th></th>\n",
       "      <th>violation_description</th>\n",
       "      <th>agency_name</th>\n",
       "      <th>disposition</th>\n",
       "      <th>discount_amount</th>\n",
       "      <th>admin_fee</th>\n",
       "      <th>state_fee</th>\n",
       "      <th>late_fee</th>\n",
       "      <th>judgment_amount</th>\n",
       "      <th>state</th>\n",
       "      <th>lat</th>\n",
       "      <th>lon</th>\n",
       "      <th>distance</th>\n",
       "      <th>time_gap</th>\n",
       "      <th>distance2</th>\n",
       "      <th>distance_admin_fee</th>\n",
       "      <th>distance_state_fee</th>\n",
       "      <th>distance_late_fee</th>\n",
       "      <th>distance_discount</th>\n",
       "      <th>distance_judgment</th>\n",
       "      <th>distance_time_gap</th>\n",
       "    </tr>\n",
       "    <tr>\n",
       "      <th>ticket_id</th>\n",
       "      <th></th>\n",
       "      <th></th>\n",
       "      <th></th>\n",
       "      <th></th>\n",
       "      <th></th>\n",
       "      <th></th>\n",
       "      <th></th>\n",
       "      <th></th>\n",
       "      <th></th>\n",
       "      <th></th>\n",
       "      <th></th>\n",
       "      <th></th>\n",
       "      <th></th>\n",
       "      <th></th>\n",
       "      <th></th>\n",
       "      <th></th>\n",
       "      <th></th>\n",
       "      <th></th>\n",
       "      <th></th>\n",
       "      <th></th>\n",
       "    </tr>\n",
       "  </thead>\n",
       "  <tbody>\n",
       "    <tr>\n",
       "      <th>22056</th>\n",
       "      <td>33</td>\n",
       "      <td>0</td>\n",
       "      <td>2</td>\n",
       "      <td>0.0</td>\n",
       "      <td>20.0</td>\n",
       "      <td>10.0</td>\n",
       "      <td>25.0</td>\n",
       "      <td>305.0</td>\n",
       "      <td>14</td>\n",
       "      <td>42.390729</td>\n",
       "      <td>-83.124268</td>\n",
       "      <td>9.224702</td>\n",
       "      <td>71.66581</td>\n",
       "      <td>85.095131</td>\n",
       "      <td>184.494044</td>\n",
       "      <td>92.247022</td>\n",
       "      <td>230.617555</td>\n",
       "      <td>0.0</td>\n",
       "      <td>2813.534177</td>\n",
       "      <td>661.095759</td>\n",
       "    </tr>\n",
       "    <tr>\n",
       "      <th>77242</th>\n",
       "      <td>33</td>\n",
       "      <td>0</td>\n",
       "      <td>2</td>\n",
       "      <td>0.0</td>\n",
       "      <td>20.0</td>\n",
       "      <td>10.0</td>\n",
       "      <td>50.0</td>\n",
       "      <td>580.0</td>\n",
       "      <td>14</td>\n",
       "      <td>42.390729</td>\n",
       "      <td>-83.124268</td>\n",
       "      <td>9.224702</td>\n",
       "      <td>34.00000</td>\n",
       "      <td>85.095131</td>\n",
       "      <td>184.494044</td>\n",
       "      <td>92.247022</td>\n",
       "      <td>461.235111</td>\n",
       "      <td>0.0</td>\n",
       "      <td>5350.327287</td>\n",
       "      <td>313.639875</td>\n",
       "    </tr>\n",
       "    <tr>\n",
       "      <th>77243</th>\n",
       "      <td>52</td>\n",
       "      <td>0</td>\n",
       "      <td>2</td>\n",
       "      <td>0.0</td>\n",
       "      <td>20.0</td>\n",
       "      <td>10.0</td>\n",
       "      <td>25.0</td>\n",
       "      <td>305.0</td>\n",
       "      <td>14</td>\n",
       "      <td>42.390729</td>\n",
       "      <td>-83.124268</td>\n",
       "      <td>9.224702</td>\n",
       "      <td>34.00000</td>\n",
       "      <td>85.095131</td>\n",
       "      <td>184.494044</td>\n",
       "      <td>92.247022</td>\n",
       "      <td>230.617555</td>\n",
       "      <td>0.0</td>\n",
       "      <td>2813.534177</td>\n",
       "      <td>313.639875</td>\n",
       "    </tr>\n",
       "    <tr>\n",
       "      <th>138219</th>\n",
       "      <td>81</td>\n",
       "      <td>1</td>\n",
       "      <td>2</td>\n",
       "      <td>0.0</td>\n",
       "      <td>20.0</td>\n",
       "      <td>10.0</td>\n",
       "      <td>10.0</td>\n",
       "      <td>140.0</td>\n",
       "      <td>14</td>\n",
       "      <td>42.390729</td>\n",
       "      <td>-83.124268</td>\n",
       "      <td>9.224702</td>\n",
       "      <td>136.00000</td>\n",
       "      <td>85.095131</td>\n",
       "      <td>184.494044</td>\n",
       "      <td>92.247022</td>\n",
       "      <td>92.247022</td>\n",
       "      <td>0.0</td>\n",
       "      <td>1291.458311</td>\n",
       "      <td>1254.559502</td>\n",
       "    </tr>\n",
       "    <tr>\n",
       "      <th>177558</th>\n",
       "      <td>29</td>\n",
       "      <td>0</td>\n",
       "      <td>2</td>\n",
       "      <td>0.0</td>\n",
       "      <td>20.0</td>\n",
       "      <td>10.0</td>\n",
       "      <td>30.0</td>\n",
       "      <td>360.0</td>\n",
       "      <td>14</td>\n",
       "      <td>42.390729</td>\n",
       "      <td>-83.124268</td>\n",
       "      <td>9.224702</td>\n",
       "      <td>81.00000</td>\n",
       "      <td>85.095131</td>\n",
       "      <td>184.494044</td>\n",
       "      <td>92.247022</td>\n",
       "      <td>276.741067</td>\n",
       "      <td>0.0</td>\n",
       "      <td>3320.892799</td>\n",
       "      <td>747.200880</td>\n",
       "    </tr>\n",
       "  </tbody>\n",
       "</table>\n",
       "</div>"
      ],
      "text/plain": [
       "           violation_description  agency_name  disposition  discount_amount  \\\n",
       "ticket_id                                                                     \n",
       "22056                         33            0            2              0.0   \n",
       "77242                         33            0            2              0.0   \n",
       "77243                         52            0            2              0.0   \n",
       "138219                        81            1            2              0.0   \n",
       "177558                        29            0            2              0.0   \n",
       "\n",
       "           admin_fee  state_fee  late_fee  judgment_amount  state        lat  \\\n",
       "ticket_id                                                                      \n",
       "22056           20.0       10.0      25.0            305.0     14  42.390729   \n",
       "77242           20.0       10.0      50.0            580.0     14  42.390729   \n",
       "77243           20.0       10.0      25.0            305.0     14  42.390729   \n",
       "138219          20.0       10.0      10.0            140.0     14  42.390729   \n",
       "177558          20.0       10.0      30.0            360.0     14  42.390729   \n",
       "\n",
       "                 lon  distance   time_gap  distance2  distance_admin_fee  \\\n",
       "ticket_id                                                                  \n",
       "22056     -83.124268  9.224702   71.66581  85.095131          184.494044   \n",
       "77242     -83.124268  9.224702   34.00000  85.095131          184.494044   \n",
       "77243     -83.124268  9.224702   34.00000  85.095131          184.494044   \n",
       "138219    -83.124268  9.224702  136.00000  85.095131          184.494044   \n",
       "177558    -83.124268  9.224702   81.00000  85.095131          184.494044   \n",
       "\n",
       "           distance_state_fee  distance_late_fee  distance_discount  \\\n",
       "ticket_id                                                             \n",
       "22056               92.247022         230.617555                0.0   \n",
       "77242               92.247022         461.235111                0.0   \n",
       "77243               92.247022         230.617555                0.0   \n",
       "138219              92.247022          92.247022                0.0   \n",
       "177558              92.247022         276.741067                0.0   \n",
       "\n",
       "           distance_judgment  distance_time_gap  \n",
       "ticket_id                                        \n",
       "22056            2813.534177         661.095759  \n",
       "77242            5350.327287         313.639875  \n",
       "77243            2813.534177         313.639875  \n",
       "138219           1291.458311        1254.559502  \n",
       "177558           3320.892799         747.200880  "
      ]
     },
     "execution_count": 17,
     "metadata": {},
     "output_type": "execute_result"
    }
   ],
   "source": [
    "x.head()"
   ]
  },
  {
   "cell_type": "code",
   "execution_count": 18,
   "metadata": {
    "collapsed": true
   },
   "outputs": [],
   "source": [
    "# some of the features are numerical but have no order so it's better to convert them to dummies\n",
    "feature_to_be_splitted = ['violation_description', 'agency_name', 'disposition', 'state']\n",
    "    \n",
    "x = pd.get_dummies(x, columns = feature_to_be_splitted)"
   ]
  },
  {
   "cell_type": "code",
   "execution_count": 19,
   "metadata": {},
   "outputs": [
    {
     "data": {
      "text/html": [
       "<div>\n",
       "<style>\n",
       "    .dataframe thead tr:only-child th {\n",
       "        text-align: right;\n",
       "    }\n",
       "\n",
       "    .dataframe thead th {\n",
       "        text-align: left;\n",
       "    }\n",
       "\n",
       "    .dataframe tbody tr th {\n",
       "        vertical-align: top;\n",
       "    }\n",
       "</style>\n",
       "<table border=\"1\" class=\"dataframe\">\n",
       "  <thead>\n",
       "    <tr style=\"text-align: right;\">\n",
       "      <th></th>\n",
       "      <th>Feature1</th>\n",
       "      <th>Feature2</th>\n",
       "      <th>Correlation</th>\n",
       "    </tr>\n",
       "  </thead>\n",
       "  <tbody>\n",
       "    <tr>\n",
       "      <th>2090</th>\n",
       "      <td>distance_late_fee</td>\n",
       "      <td>distance_judgment</td>\n",
       "      <td>0.989240</td>\n",
       "    </tr>\n",
       "    <tr>\n",
       "      <th>2434</th>\n",
       "      <td>distance_judgment</td>\n",
       "      <td>distance_late_fee</td>\n",
       "      <td>0.989240</td>\n",
       "    </tr>\n",
       "    <tr>\n",
       "      <th>523</th>\n",
       "      <td>late_fee</td>\n",
       "      <td>judgment_amount</td>\n",
       "      <td>0.989070</td>\n",
       "    </tr>\n",
       "    <tr>\n",
       "      <th>695</th>\n",
       "      <td>judgment_amount</td>\n",
       "      <td>late_fee</td>\n",
       "      <td>0.989070</td>\n",
       "    </tr>\n",
       "    <tr>\n",
       "      <th>531</th>\n",
       "      <td>late_fee</td>\n",
       "      <td>distance_late_fee</td>\n",
       "      <td>0.940410</td>\n",
       "    </tr>\n",
       "    <tr>\n",
       "      <th>2079</th>\n",
       "      <td>distance_late_fee</td>\n",
       "      <td>late_fee</td>\n",
       "      <td>0.940410</td>\n",
       "    </tr>\n",
       "    <tr>\n",
       "      <th>13</th>\n",
       "      <td>discount_amount</td>\n",
       "      <td>distance_discount</td>\n",
       "      <td>0.938221</td>\n",
       "    </tr>\n",
       "    <tr>\n",
       "      <th>2249</th>\n",
       "      <td>distance_discount</td>\n",
       "      <td>discount_amount</td>\n",
       "      <td>0.938221</td>\n",
       "    </tr>\n",
       "    <tr>\n",
       "      <th>706</th>\n",
       "      <td>judgment_amount</td>\n",
       "      <td>distance_judgment</td>\n",
       "      <td>0.936776</td>\n",
       "    </tr>\n",
       "    <tr>\n",
       "      <th>2426</th>\n",
       "      <td>distance_judgment</td>\n",
       "      <td>judgment_amount</td>\n",
       "      <td>0.936776</td>\n",
       "    </tr>\n",
       "    <tr>\n",
       "      <th>704</th>\n",
       "      <td>judgment_amount</td>\n",
       "      <td>distance_late_fee</td>\n",
       "      <td>0.930878</td>\n",
       "    </tr>\n",
       "    <tr>\n",
       "      <th>2080</th>\n",
       "      <td>distance_late_fee</td>\n",
       "      <td>judgment_amount</td>\n",
       "      <td>0.930878</td>\n",
       "    </tr>\n",
       "    <tr>\n",
       "      <th>533</th>\n",
       "      <td>late_fee</td>\n",
       "      <td>distance_judgment</td>\n",
       "      <td>0.926355</td>\n",
       "    </tr>\n",
       "    <tr>\n",
       "      <th>2425</th>\n",
       "      <td>distance_judgment</td>\n",
       "      <td>late_fee</td>\n",
       "      <td>0.926355</td>\n",
       "    </tr>\n",
       "  </tbody>\n",
       "</table>\n",
       "</div>"
      ],
      "text/plain": [
       "               Feature1           Feature2  Correlation\n",
       "2090  distance_late_fee  distance_judgment     0.989240\n",
       "2434  distance_judgment  distance_late_fee     0.989240\n",
       "523            late_fee    judgment_amount     0.989070\n",
       "695     judgment_amount           late_fee     0.989070\n",
       "531            late_fee  distance_late_fee     0.940410\n",
       "2079  distance_late_fee           late_fee     0.940410\n",
       "13      discount_amount  distance_discount     0.938221\n",
       "2249  distance_discount    discount_amount     0.938221\n",
       "706     judgment_amount  distance_judgment     0.936776\n",
       "2426  distance_judgment    judgment_amount     0.936776\n",
       "704     judgment_amount  distance_late_fee     0.930878\n",
       "2080  distance_late_fee    judgment_amount     0.930878\n",
       "533            late_fee  distance_judgment     0.926355\n",
       "2425  distance_judgment           late_fee     0.926355"
      ]
     },
     "execution_count": 19,
     "metadata": {},
     "output_type": "execute_result"
    }
   ],
   "source": [
    "corr = x.corr().abs()\n",
    "s = corr.unstack().to_frame().reset_index()\n",
    "s.columns = ['Feature1', 'Feature2', 'Correlation']\n",
    "s[(s['Correlation'] > 0.9) & (s['Correlation'] <= 0.99)].sort_values('Correlation', ascending = False)"
   ]
  },
  {
   "cell_type": "code",
   "execution_count": 20,
   "metadata": {
    "collapsed": true
   },
   "outputs": [],
   "source": [
    "# remove some features that cause multicollinearity\n",
    "#   - distance_judgment\n",
    "#   - late_fee\n",
    "#   - discount_amount\n",
    "\n",
    "multicollinearity = ['distance_judgment', 'late_fee', 'discount_amount']\n",
    "\n",
    "features_no_multi = [feature for feature in x.columns if feature not in multicollinearity]\n",
    "x_no_multi = x[features_no_multi]"
   ]
  },
  {
   "cell_type": "code",
   "execution_count": 21,
   "metadata": {},
   "outputs": [
    {
     "data": {
      "image/png": "[encoded data removed]",
      "text/plain": [
       "<matplotlib.figure.Figure at 0x1d42b9143c8>"
      ]
     },
     "metadata": {},
     "output_type": "display_data"
    }
   ],
   "source": [
    "from sklearn.ensemble import GradientBoostingClassifier\n",
    "from matplotlib import pyplot as plt\n",
    "\n",
    "clf = GradientBoostingClassifier(random_state = 0).fit(x_no_multi, y)\n",
    "\n",
    "features = []\n",
    "\n",
    "for feature, importance in zip(x_no_multi.columns, clf.feature_importances_):\n",
    "    features.append((importance, feature))\n",
    "\n",
    "features.sort(reverse = True)\n",
    "features_relevant = [x_no_multi[1] for x_no_multi in features if x_no_multi[0] > 0]\n",
    "\n",
    "features = pd.DataFrame()\n",
    "\n",
    "features['feature'] = x_no_multi.columns\n",
    "features['importance'] = clf.feature_importances_\n",
    "\n",
    "features.sort_values(by = ['importance'], ascending = True, inplace = True)\n",
    "features.set_index('feature', inplace = True)\n",
    "\n",
    "# plot the 'top 15' features\n",
    "features[:-16:-1].plot(kind = 'barh', figsize = (20, 15), legend = None)\n",
    "plt.tick_params(axis = 'both', which = 'major', labelsize = 14)\n",
    "plt.show()"
   ]
  },
  {
   "cell_type": "code",
   "execution_count": 22,
   "metadata": {
    "collapsed": true
   },
   "outputs": [],
   "source": [
    "# import de test data\n",
    "test_df_01 = pd.read_csv('data/test.csv', delimiter = ',', encoding = 'latin-1', low_memory = False)"
   ]
  },
  {
   "cell_type": "code",
   "execution_count": 23,
   "metadata": {
    "collapsed": true
   },
   "outputs": [],
   "source": [
    "# apply the same transformations as done on the training data\n",
    "test_df_02 = pd.merge(test_df_01, addresses, left_on = ['ticket_id'], right_on = ['ticket_id'], how = 'inner')\n",
    "test_df_03 = pd.merge(test_df_02, latlons, left_on = ['address'], right_on = ['address'], how = 'inner')\n",
    "    \n",
    "for feature in features_to_reduce:\n",
    "    number_categories_before = test_df_03[feature].value_counts(dropna = False).to_frame().shape[0]\n",
    "    counts = test_df_03[feature].value_counts()\n",
    "    test_df_03.loc[test_df_03[feature].isin(counts[counts < 10].to_frame().reset_index()['index']), feature] = np.nan\n",
    "    number_categories_after = test_df_03[feature].value_counts(dropna = False).to_frame().shape[0]\n",
    "\n",
    "test_df_03['time_gap'] = test_df_03.apply(lambda row: time_gap(row['hearing_date'], row['ticket_issued_date']), axis = 1).astype(np.float64)\n",
    "test_df_03['time_gap'] = np.where((test_df_03['time_gap'] < 0) | (test_df_03['time_gap'] > 365), np.nan, test_df_03['time_gap'])\n",
    "test_df_03['time_gap'].fillna(mean_time_gap, inplace = True)\n",
    "\n",
    "test_df_03['lat'].fillna(mean_lat, inplace = True)\n",
    "test_df_03['lon'].fillna(mean_lon, inplace = True)\n",
    "test_df_03['state'].fillna('ZZ', inplace = True)\n",
    "\n",
    "test_df_03['distance'] = test_df_03.apply(lambda row: haversine(lon1 = -83.045753, lat1 = 42.331429, lon2 = row['lon'], lat2 = row['lat']), axis = 1)\n",
    "\n",
    "test_df_03['distance2'] = test_df_03['distance'] * test_df_03['distance']\n",
    "test_df_03['distance_admin_fee'] = test_df_03['distance'] * test_df_03['admin_fee']\n",
    "test_df_03['distance_state_fee'] = test_df_03['distance'] * test_df_03['state_fee']\n",
    "test_df_03['distance_late_fee'] = test_df_03['distance'] * test_df_03['late_fee']\n",
    "test_df_03['distance_discount'] = test_df_03['distance'] * test_df_03['discount_amount']\n",
    "test_df_03['distance_judgment'] = test_df_03['distance'] * test_df_03['judgment_amount']\n",
    "test_df_03['distance_time_gap'] = test_df_03['distance'] * test_df_03['time_gap']\n",
    "\n",
    "test_df_03['violation_description'] = test_df_03['violation_description'].map(violation_description_dict2)\n",
    "test_df_03['violation_description'].fillna(mode_violation_description, inplace = True)\n",
    "test_df_03['violation_description'] = test_df_03['violation_description'].astype(np.int8)\n",
    "\n",
    "test_df_03['agency_name'] = test_df_03['agency_name'].map(agency_name_dict2)\n",
    "test_df_03['agency_name'].fillna(mode_agency_name, inplace = True)\n",
    "test_df_03['agency_name'] = test_df_03['agency_name'].astype(np.int8)\n",
    "\n",
    "test_df_03['disposition'] = test_df_03['disposition'].map(disposition_dict2)\n",
    "test_df_03['disposition'].fillna(mode_disposition, inplace = True)\n",
    "test_df_03['disposition'] = test_df_03['disposition'].astype(np.int8)\n",
    "\n",
    "test_df_03['state'] = test_df_03['state'].map(state_dict2)\n",
    "test_df_03['state'].fillna(49, inplace = True)\n",
    "test_df_03['state'] = test_df_03['state'].astype(np.int8)\n",
    "\n",
    "test_df_03 = pd.get_dummies(test_df_03, columns = feature_to_be_splitted)\n",
    "\n",
    "test_df_03 = test_df_03.set_index('ticket_id')"
   ]
  },
  {
   "cell_type": "code",
   "execution_count": 24,
   "metadata": {
    "collapsed": true
   },
   "outputs": [],
   "source": [
    "# make sure the algorithm is not being trained on features not available in the test set\n",
    "train_features = x_no_multi[features_relevant].columns\n",
    "train_features_set = set(train_features)\n",
    "    \n",
    "for feature in set(train_features):\n",
    "    if feature not in test_df_03:\n",
    "        train_features_set.remove(feature)\n",
    "train_features = list(train_features_set)\n",
    "    \n",
    "x_input = x[train_features]\n",
    "test_df_03 = test_df_03[train_features]"
   ]
  },
  {
   "cell_type": "code",
   "execution_count": 25,
   "metadata": {},
   "outputs": [
    {
     "data": {
      "text/plain": [
       "((159880, 54), (61001, 54))"
      ]
     },
     "execution_count": 25,
     "metadata": {},
     "output_type": "execute_result"
    }
   ],
   "source": [
    "x_input.shape, test_df_03.shape"
   ]
  },
  {
   "cell_type": "code",
   "execution_count": 26,
   "metadata": {},
   "outputs": [
    {
     "name": "stdout",
     "output_type": "stream",
     "text": [
      "ROC for training set:  0.824\n",
      "ROC for the validation set:  0.814\n"
     ]
    }
   ],
   "source": [
    "from sklearn.ensemble import GradientBoostingClassifier\n",
    "from sklearn.model_selection import train_test_split\n",
    "from sklearn.metrics import roc_auc_score\n",
    "\n",
    "x_train, x_val, y_train, y_val = train_test_split(x_input, y, random_state = 0)\n",
    "\n",
    "clf = GradientBoostingClassifier(learning_rate = 0.03, max_depth = 5, random_state = 0).fit(x_train, y_train)\n",
    "\n",
    "# area under the curve (AUC) score for training dataset\n",
    "y_train_score = clf.predict_proba(x_train)[:,1]\n",
    "roc_auc_train = roc_auc_score(y_train, y_train_score)\n",
    "    \n",
    "# area under the curve (AUC) score for test dataset\n",
    "y_val_score = clf.predict_proba(x_val)[:,1]\n",
    "roc_auc_val = roc_auc_score(y_val, y_val_score)\n",
    "\n",
    "print('ROC for training set: ', \"{0:.3f}\".format(roc_auc_train))\n",
    "print('ROC for the validation set: ', \"{0:.3f}\".format(roc_auc_val))"
   ]
  },
  {
   "cell_type": "code",
   "execution_count": 27,
   "metadata": {},
   "outputs": [
    {
     "data": {
      "application/javascript": [
       "IPython.OutputArea.prototype._should_scroll = function(lines) {\n",
       "    return false;\n",
       "}"
      ],
      "text/plain": [
       "<IPython.core.display.Javascript object>"
      ]
     },
     "metadata": {},
     "output_type": "display_data"
    }
   ],
   "source": [
    "%%javascript\n",
    "IPython.OutputArea.prototype._should_scroll = function(lines) {\n",
    "    return false;\n",
    "}"
   ]
  },
  {
   "cell_type": "code",
   "execution_count": 30,
   "metadata": {
    "scrolled": true
   },
   "outputs": [
    {
     "data": {
      "image/png": "[encoded data removed]",
      "text/plain": [
       "<matplotlib.figure.Figure at 0x1d4248d4cf8>"
      ]
     },
     "metadata": {},
     "output_type": "display_data"
    }
   ],
   "source": [
    "# plot the ROC-curve\n",
    "from sklearn.metrics import roc_curve, auc\n",
    "\n",
    "fpr, tpr, threshold = roc_curve(y_val, y_val_score)\n",
    "roc_auc = auc(fpr, tpr)\n",
    "\n",
    "plt.figure(figsize = (10, 10))\n",
    "\n",
    "ax = plt.gca()\n",
    "\n",
    "plt.title('ROC-curve', fontsize = 14)\n",
    "plt.plot(fpr, tpr, color = 'darkorange', lw = 0.75, label = 'AUC of the validation set = %0.3f' % roc_auc)\n",
    "plt.legend(loc = 'lower right')\n",
    "plt.plot([0, 1], [0, 1], color = 'navy', lw = 0.75, linestyle = '--')\n",
    "\n",
    "xticks_major = np.round(np.linspace(0, 1, 11), 1)\n",
    "xticks_major_str = (xticks_major).astype(str).tolist()\n",
    "xticks_labels = [x for x in xticks_major_str]\n",
    "\n",
    "yticks_major = np.round(np.linspace(0, 1, 11), 1)\n",
    "yticks_major_str = (yticks_major).astype(str).tolist()\n",
    "yticks_labels = [x for x in yticks_major_str]\n",
    "\n",
    "ax.set_xlim([0, 1])\n",
    "ax.set_ylim([0, 1])\n",
    "ax.set_xticks(xticks_major)\n",
    "ax.set_xticklabels(xticks_labels, fontsize = 10)\n",
    "ax.set_yticks(yticks_major)\n",
    "ax.set_yticklabels(yticks_labels, fontsize = 10)\n",
    "\n",
    "plt.ylabel('True Positive Rate', fontsize = 12)\n",
    "plt.xlabel('False Positive Rate', fontsize = 12)\n",
    "plt.show()"
   ]
  },
  {
   "cell_type": "code",
   "execution_count": 31,
   "metadata": {},
   "outputs": [
    {
     "data": {
      "text/plain": [
       "ticket_id\n",
       "284932    0.074902\n",
       "285362    0.021904\n",
       "285361    0.047582\n",
       "285338    0.066010\n",
       "285346    0.077002\n",
       "Name: compliance, dtype: float32"
      ]
     },
     "execution_count": 31,
     "metadata": {},
     "output_type": "execute_result"
    }
   ],
   "source": [
    "# the final predictions for the test set\n",
    "prediction_proba = clf.predict_proba(test_df_03)[:,1]\n",
    "test_df_03['compliance'] = prediction_proba.astype(np.float32)\n",
    "test_df_03.compliance.head()"
   ]
  },
  {
   "cell_type": "code",
   "execution_count": null,
   "metadata": {
    "collapsed": true
   },
   "outputs": [],
   "source": []
  }
 ],
 "metadata": {
  "coursera": {
   "course_slug": "python-machine-learning",
   "graded_item_id": "nNS8l",
   "launcher_item_id": "yWWk7",
   "part_id": "w8BSS"
  },
  "kernelspec": {
   "display_name": "Python 3",
   "language": "python",
   "name": "python3"
  },
  "language_info": {
   "codemirror_mode": {
    "name": "ipython",
    "version": 3
   },
   "file_extension": ".py",
   "mimetype": "text/x-python",
   "name": "python",
   "nbconvert_exporter": "python",
   "pygments_lexer": "ipython3",
   "version": "3.6.1"
  }
 },
 "nbformat": 4,
 "nbformat_minor": 2
}
